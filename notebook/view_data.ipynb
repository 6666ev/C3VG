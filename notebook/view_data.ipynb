{
 "cells": [
  {
   "cell_type": "code",
   "execution_count": 1,
   "id": "cdb6f0c9",
   "metadata": {},
   "outputs": [],
   "source": [
    "import json"
   ]
  },
  {
   "cell_type": "code",
   "execution_count": 2,
   "id": "e8edcdd3",
   "metadata": {},
   "outputs": [],
   "source": [
    "file_path = \"../data/c3vg_dataset/generation_test.json\"\n",
    "test_data = []\n",
    "with open(file_path) as f:\n",
    "    for line in f:\n",
    "        test_data.append(json.loads(line))"
   ]
  },
  {
   "cell_type": "code",
   "execution_count": 3,
   "id": "3f55e83f",
   "metadata": {},
   "outputs": [],
   "source": [
    "file_path = \"../data/c3vg_dataset/generation_train.json\"\n",
    "train_data = []\n",
    "with open(file_path) as f:\n",
    "    for line in f:\n",
    "        train_data.append(json.loads(line))"
   ]
  },
  {
   "cell_type": "code",
   "execution_count": 4,
   "id": "74ef752b",
   "metadata": {},
   "outputs": [],
   "source": [
    "file_path = \"../data/c3vg_dataset/extraction.json\"\n",
    "ex_data = []\n",
    "with open(file_path) as f:\n",
    "    for line in f:\n",
    "        ex_data.append(json.loads(line))"
   ]
  },
  {
   "cell_type": "code",
   "execution_count": 5,
   "id": "367e3d45",
   "metadata": {},
   "outputs": [
    {
     "data": {
      "text/plain": [
       "(50312, 12627, 10000)"
      ]
     },
     "execution_count": 5,
     "metadata": {},
     "output_type": "execute_result"
    }
   ],
   "source": [
    "len(train_data), len(test_data), len(ex_data)"
   ]
  },
  {
   "cell_type": "code",
   "execution_count": 22,
   "id": "debfd9f6",
   "metadata": {},
   "outputs": [
    {
     "data": {
      "text/plain": [
       "dict_keys(['fact', 'charge', 'article', 'view', 'sc', 'adc', 'id', 'label'])"
      ]
     },
     "execution_count": 22,
     "metadata": {},
     "output_type": "execute_result"
    }
   ],
   "source": [
    "ex_data[0].keys()"
   ]
  },
  {
   "cell_type": "code",
   "execution_count": 30,
   "id": "a9c36d77",
   "metadata": {},
   "outputs": [
    {
     "data": {
      "text/plain": [
       "['被告人 徐某案 发 后 主动 报警 ， 积极 参与 抢救 伤者 ， 到案 后 如实 供述 犯罪 事实 ， 构成 自首 ， 可 从轻 处罚 ',\n",
       " ' 被告人 徐某 与 被害人 家 属 达成 民事 赔偿 协议 并 积极 履行 赔偿 责任 ， 可 酌情 从轻 处罚']"
      ]
     },
     "execution_count": 30,
     "metadata": {},
     "output_type": "execute_result"
    }
   ],
   "source": [
    "ex_data[0][\"sc\"]"
   ]
  },
  {
   "cell_type": "code",
   "execution_count": 7,
   "id": "b4c8b826",
   "metadata": {},
   "outputs": [],
   "source": [
    "charges = []\n",
    "for i in train_data:\n",
    "    charges.append(i[\"charge\"])"
   ]
  },
  {
   "cell_type": "code",
   "execution_count": 10,
   "id": "6c69ad71",
   "metadata": {},
   "outputs": [
    {
     "data": {
      "text/plain": [
       "62"
      ]
     },
     "execution_count": 10,
     "metadata": {},
     "output_type": "execute_result"
    }
   ],
   "source": [
    "set(charges)"
   ]
  },
  {
   "cell_type": "code",
   "execution_count": 16,
   "id": "19fea052",
   "metadata": {
    "scrolled": true
   },
   "outputs": [],
   "source": [
    "idx=0\n",
    "charge2id={}\n",
    "id2charge={}\n",
    "for i in set(charges):\n",
    "    charge2id[i]=idx\n",
    "    id2charge[str(idx)]=i\n",
    "    idx+=1"
   ]
  },
  {
   "cell_type": "code",
   "execution_count": 20,
   "id": "5d25d4c3",
   "metadata": {},
   "outputs": [
    {
     "data": {
      "text/plain": [
       "{'0': '赌博',\n",
       " '1': '盗窃',\n",
       " '2': '妨害公务',\n",
       " '3': '盗伐林木',\n",
       " '4': '强奸',\n",
       " '5': '故意伤害',\n",
       " '6': '非法拘禁',\n",
       " '7': '假冒注册商标',\n",
       " '8': '非法侵入住宅',\n",
       " '9': '非法持有、私藏枪支、弹药',\n",
       " '10': '敲诈勒索',\n",
       " '11': '销售假冒注册商标的商品',\n",
       " '12': '侵犯公民个人信息',\n",
       " '13': '非法持有毒品',\n",
       " '14': '重大责任事故',\n",
       " '15': '掩饰、隐瞒犯罪所得、犯罪所得收益',\n",
       " '16': '受贿',\n",
       " '17': '抢夺',\n",
       " '18': '虚开增值税专用发票、用于骗取出口退税、抵扣税款发票',\n",
       " '19': '污染环境',\n",
       " '20': '挪用资金',\n",
       " '21': '非法经营',\n",
       " '22': '开设赌场',\n",
       " '23': '职务侵占',\n",
       " '24': '非法采伐、毁坏国家重点保护植物',\n",
       " '25': '伪造、变造、买卖国家机关公文、证件、印章',\n",
       " '26': '生产、销售不符合安全标准的食品',\n",
       " '27': '寻衅滋事',\n",
       " '28': '故意毁坏财物',\n",
       " '29': '生产、销售假药',\n",
       " '30': '失火',\n",
       " '31': '放火',\n",
       " '32': '引诱、容留、介绍卖淫',\n",
       " '33': '非法行医',\n",
       " '34': '交通肇事',\n",
       " '35': '诈骗',\n",
       " '36': '容留他人吸毒',\n",
       " '37': '合同诈骗',\n",
       " '38': '猥亵儿童',\n",
       " '39': '危险驾驶',\n",
       " '40': '贪污',\n",
       " '41': '非法吸收公众存款',\n",
       " '42': '非法狩猎',\n",
       " '43': '过失致人死亡',\n",
       " '44': '滥伐林木',\n",
       " '45': '行贿',\n",
       " '46': '非法种植毒品原植物',\n",
       " '47': '过失致人重伤',\n",
       " '48': '组织、领导传销活动',\n",
       " '49': '挪用公款',\n",
       " '50': '非法制造、买卖、运输、邮寄、储存枪支、弹药、爆炸物',\n",
       " '51': '信用卡诈骗',\n",
       " '52': '伪造公司、企业、事业单位、人民团体印章',\n",
       " '53': '抢劫',\n",
       " '54': '非法采矿',\n",
       " '55': '拒不支付劳动报酬',\n",
       " '56': '非法占用农用地',\n",
       " '57': '走私、贩卖、运输、制造毒品',\n",
       " '58': '生产、销售有毒、有害食品',\n",
       " '59': '聚众斗殴',\n",
       " '60': '拒不执行判决、裁定',\n",
       " '61': '故意杀人'}"
      ]
     },
     "execution_count": 20,
     "metadata": {},
     "output_type": "execute_result"
    }
   ],
   "source": [
    "id2charge"
   ]
  },
  {
   "cell_type": "code",
   "execution_count": null,
   "id": "0e64c793",
   "metadata": {},
   "outputs": [],
   "source": []
  }
 ],
 "metadata": {
  "kernelspec": {
   "display_name": "Python 3 (ipykernel)",
   "language": "python",
   "name": "python3"
  },
  "language_info": {
   "codemirror_mode": {
    "name": "ipython",
    "version": 3
   },
   "file_extension": ".py",
   "mimetype": "text/x-python",
   "name": "python",
   "nbconvert_exporter": "python",
   "pygments_lexer": "ipython3",
   "version": "3.7.6"
  }
 },
 "nbformat": 4,
 "nbformat_minor": 5
}
